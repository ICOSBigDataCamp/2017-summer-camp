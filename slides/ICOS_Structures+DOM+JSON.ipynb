{
 "cells": [
  {
   "cell_type": "markdown",
   "metadata": {},
   "source": [
    "# Python Data Structures"
   ]
  },
  {
   "cell_type": "markdown",
   "metadata": {},
   "source": [
    "## Lists"
   ]
  },
  {
   "cell_type": "markdown",
   "metadata": {},
   "source": [
    "Refresher:\n",
    "- Group of comma-separated values between square brackets\n",
    "- Elements in the list need not be of the same type"
   ]
  },
  {
   "cell_type": "code",
   "execution_count": 2,
   "metadata": {},
   "outputs": [
    {
     "name": "stdout",
     "output_type": "stream",
     "text": [
      "[['Cersei', 32, 'Alive'], ['Jamie', 32, 'Alive'], ['Tyrion', 28, 'Alive']] \n",
      "\n",
      "\n"
     ]
    }
   ],
   "source": [
    "l1 = ['Cersei', 32, 'Alive'] #1-D list\n",
    "l2 = ['Jamie', 32, 'Alive']\n",
    "l3 = ['Tyrion', 28 , 'Alive']\n",
    "lannisters = [l1, l2, l3] #2-D List\n",
    "              \n",
    "print(lannisters, \"\\n\\n\") #Remember: braces for Python3. Also, ages are at beginning of season 1."
   ]
  },
  {
   "cell_type": "markdown",
   "metadata": {
    "collapsed": true
   },
   "source": [
    "### Some simple operations we can apply to lists:"
   ]
  },
  {
   "cell_type": "code",
   "execution_count": 4,
   "metadata": {},
   "outputs": [
    {
     "name": "stdout",
     "output_type": "stream",
     "text": [
      "['Cersei', 32, 'Alive']\n",
      "['Jamie', 32, 'Alive']\n",
      "['Tyrion', 28, 'Alive']\n",
      "3\n",
      "True\n",
      "False\n"
     ]
    }
   ],
   "source": [
    "#1. Iteration\n",
    "for lannister in lannisters: \n",
    "    print (lannister)\n",
    "\n",
    "#2. Length\n",
    "print(len(lannisters))\n",
    "\n",
    "#3. Concatenation\n",
    "\n",
    "#4. Repetition\n",
    "\n",
    "#5. Membership"
   ]
  },
  {
   "cell_type": "markdown",
   "metadata": {},
   "source": [
    "### Built in List Methods"
   ]
  },
  {
   "cell_type": "code",
   "execution_count": null,
   "metadata": {
    "collapsed": true
   },
   "outputs": [],
   "source": [
    "li = ['Daenerys Targaryen', 'Arya Stark', 'Cersei Lannister', 'Jon Snow', 'Petyr Baelish', 'No one']\n",
    "\n",
    "#1. append()\n",
    "contender1 = '' #Any favorites?\n",
    "\n",
    "\n",
    "#2. extend()\n",
    "contenders = ['', '', '']\n",
    "\n",
    "\n",
    "#3. insert()\n",
    "\n",
    "\n",
    "#4. remove()\n",
    "\n",
    "\n",
    "#5. pop()\n",
    "\n",
    "\n",
    "#6. reverse()\n",
    "\n",
    "\n",
    "#7. clear()\n"
   ]
  },
  {
   "cell_type": "markdown",
   "metadata": {},
   "source": [
    "Lists are useful in reading and storing tables!"
   ]
  },
  {
   "cell_type": "markdown",
   "metadata": {},
   "source": [
    "## .csv Files\n",
    "These are basically tables stored as plain text\n",
    "- What does CSV stand for?\n",
    "\n",
    "Lots of .csv Data sources on main ICOS site. Some more:\n",
    "- data.gov: https://catalog.data.gov/dataset\n",
    "- fivethirtyeight: https://github.com/fivethirtyeight/data\n",
    "\n",
    "We can do really cool things by reading csv files. Make data easier to read through vizualizations (like Google trends), interactive, more informative.\n",
    "Once you learn how to scrape, for example a twitter feed, could perform sentiment analysis to see which emotions are prevalent in a certain feed.\n",
    "- IBM Watson's Natural Language Understanding can help! (previously Alchemy API)"
   ]
  },
  {
   "cell_type": "markdown",
   "metadata": {},
   "source": [
    "### Reading and writing .csv files\n",
    "\n",
    "Multiple ways to do it. Using the CSV module from stdlib, NumPy, or Pandas.\n",
    "Today we'll start with the basic File I/O method.\n",
    "- Make sure you've downloaded \"character-deaths.csv\"\n",
    "\n",
    "- Rest in command line -"
   ]
  },
  {
   "cell_type": "code",
   "execution_count": null,
   "metadata": {
    "collapsed": true
   },
   "outputs": [],
   "source": [
    "#reading .csv\n"
   ]
  },
  {
   "cell_type": "code",
   "execution_count": null,
   "metadata": {
    "collapsed": true
   },
   "outputs": [],
   "source": [
    "#writing .csv\n"
   ]
  },
  {
   "cell_type": "markdown",
   "metadata": {},
   "source": [
    "## Dictionaries\n",
    "- Unordered group of key-value pairs aka “mappings”\n",
    "i.e. instead of being indexed by numbers, values are indexed by a finite data-type \"key\" (e.g. string, number)\n",
    "- Keys are unique within one Dictionary\n",
    "- Can a list be a key?"
   ]
  },
  {
   "cell_type": "code",
   "execution_count": 15,
   "metadata": {},
   "outputs": [
    {
     "name": "stdout",
     "output_type": "stream",
     "text": [
      "Cersei 7\n",
      "Name Cersei\n",
      "Age 7\n",
      "House Lannister\n",
      "3\n"
     ]
    }
   ],
   "source": [
    "empty_dictionary = {}\n",
    "\n",
    "cl = {'Name': 'Cersei', 'Age': 7, 'House': 'Lannister'} \n",
    "print(cl['Name'], cl['Age'])\n",
    "\n",
    "#1. Iteration\n",
    "for k,v in cl.items(): \n",
    "    print(k,v)\n",
    "\n",
    "#2. Length\n",
    "print(len(cl))"
   ]
  },
  {
   "cell_type": "markdown",
   "metadata": {},
   "source": [
    "### Built in Dictionary methods"
   ]
  },
  {
   "cell_type": "code",
   "execution_count": 16,
   "metadata": {},
   "outputs": [
    {
     "name": "stdout",
     "output_type": "stream",
     "text": [
      "{}\n"
     ]
    }
   ],
   "source": [
    "cl = {'Name': 'Cersei', 'Age': 7, 'House': 'Lannister'} \n",
    "\n",
    "#1. keys()\n",
    "#returns list of dictionary keys\n",
    "\n",
    "#2. values()\n",
    "#returns list of dictionary dict's values\n",
    "\n",
    "#3. items()\n",
    "#returns a list of dict's (key, value) pairs\n",
    "\n",
    "#4. update()\n",
    "#adds dictionary dict2's key-values pairs to dict\n",
    "\n",
    "#5. in\n",
    "#returns true if key in dictionary dict, false otherwise\n",
    "\n",
    "#6. clear()\n",
    "cl.clear()\n",
    "print(cl)\n",
    "#removes all elements of dictionary dict"
   ]
  },
  {
   "cell_type": "markdown",
   "metadata": {},
   "source": [
    "### What will be using dictionaries for? Reading JSON Files!\n",
    "- JSON = Javascript Object Notation\n",
    "- Lightweight way to exchage data on the web\n",
    "- Easy to read, easy to write\n",
    "\n",
    "A ton of APIs will return responses as JSON files. Some examples:\n",
    "- TWITTER: https://dev.twitter.com/rest/reference/get/search/tweets\n",
    "- NYT: https://developer.nytimes.com/article_search_v2.json?mcubz=0#/Documentation/GET/articlesearch.json"
   ]
  },
  {
   "cell_type": "code",
   "execution_count": null,
   "metadata": {
    "collapsed": true
   },
   "outputs": [],
   "source": [
    "import json\n",
    "#what is an API? How will it work? More on this tomorrow."
   ]
  },
  {
   "cell_type": "markdown",
   "metadata": {},
   "source": [
    "## Tree structure of HTML\n",
    "Hypertext Markup Language\n",
    "\n",
    "DOM: Document Object Module\n",
    "Fancy name for what the Browser creates when a web-page is loaded\n",
    "\n",
    "HTML DOM\n",
    "Standard for how to create, add, or update HTML elements\n",
    "\n",
    "A simple HTML file looks something like this:"
   ]
  },
  {
   "cell_type": "code",
   "execution_count": null,
   "metadata": {
    "collapsed": true
   },
   "outputs": [],
   "source": [
    "<!DOCTYPE html>\n",
    "<html>\n",
    "<head>\n",
    "    <title>Page Title</title>\n",
    "</head>\n",
    "<body>\n",
    "\n",
    "    <h1>This is a <strong>Heading</strong></h1>\n",
    "    <p>This is a <strong>paragraph</strong>.</p>\n",
    "\n",
    "</body>\n",
    "</html>"
   ]
  },
  {
   "cell_type": "markdown",
   "metadata": {},
   "source": [
    "We are not going over the syntax (it's super easy to pick up though! https://www.w3schools.com)\n",
    "What's important to notice here is that HTML files are made up of opening and closing tags. This results in a massive tree structure.\n",
    "\n",
    "What tags are your favorite websites using?\n",
    "- Right-click > View Page Source. [Or Menu > View > Developer > View Source on Chrome]\n",
    "- Right-click > Inspect Element"
   ]
  }
 ],
 "metadata": {
  "kernelspec": {
   "display_name": "Python 3",
   "language": "python",
   "name": "python3"
  },
  "language_info": {
   "codemirror_mode": {
    "name": "ipython",
    "version": 3
   },
   "file_extension": ".py",
   "mimetype": "text/x-python",
   "name": "python",
   "nbconvert_exporter": "python",
   "pygments_lexer": "ipython3",
   "version": "3.6.1"
  }
 },
 "nbformat": 4,
 "nbformat_minor": 2
}
